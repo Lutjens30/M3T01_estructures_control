{
 "cells": [
  {
   "cell_type": "code",
   "execution_count": 57,
   "id": "f7ef792d",
   "metadata": {},
   "outputs": [
    {
     "data": {
      "text/plain": [
       "'Mitjana Aritmètica: 23.166666666666668, Mediana: 17.0, Desviació estàndard:18.13299632039767, Variància:328.8055555555555, Correlació:1.0'"
      ]
     },
     "execution_count": 57,
     "metadata": {},
     "output_type": "execute_result"
    }
   ],
   "source": [
    "##Exercici 1\n",
    "#Crea una funció que donat un Array d’una dimensió, et faci un resum estadístic bàsic de les dades. Si detecta que l’array té més d’una dimensió, ha de mostrar un missatge d’error.\n",
    "\n",
    "import numpy as np\n",
    "\n",
    "unaDimensio = np.array([8, 26, 31,8,58,8])\n",
    "\n",
    "def resum(unaDimensio):\n",
    "    if len(unaDimensio.shape) > 1:\n",
    "        return \"Error, l'array té més d'una dimensió\"\n",
    "    else:\n",
    "        mitjanaAr = np.mean(unaDimensio)\n",
    "        mediana = np.median(unaDimensio)\n",
    "        std = np.std(unaDimensio)\n",
    "        vari= np.var(unaDimensio)\n",
    "        corre= np.corrcoef(unaDimensio)\n",
    "        return f\"Mitjana Aritmètica: {mitjanaAr}, Mediana: {mediana}, Desviació estàndard:{std}, Variància:{vari}, Correlació:{corre}\"\n",
    "\n",
    "    \n",
    "resum(unaDimensio)\n",
    "\n",
    "\n",
    "\n"
   ]
  },
  {
   "cell_type": "code",
   "execution_count": 58,
   "id": "e3907ed1",
   "metadata": {},
   "outputs": [
    {
     "name": "stdout",
     "output_type": "stream",
     "text": [
      "[[61, 98, 86, 38, 71], [100, 62, 40, 29, 45], [28, 23, 79, 80, 68], [72, 9, 37, 75, 9], [93, 6, 90, 11, 70]]\n"
     ]
    }
   ],
   "source": [
    "#Exercici 2\n",
    "#Crea una funció que et generi un quadrat NxN de nombres aleatoris entre el 0 i el 100.\n",
    "\n",
    "from random import randint\n",
    "def crearMatriz (a):\n",
    "    return [[randint(1,100) for j in range(a)]for i in range (a)]\n",
    "resultado= crearMatriz(5)\n",
    "print(resultado)\n",
    "\n"
   ]
  },
  {
   "cell_type": "code",
   "execution_count": 64,
   "id": "4487874c",
   "metadata": {},
   "outputs": [
    {
     "data": {
      "text/plain": [
       "'Total per fila: [15 10], Total per columna:[12  2 11] '"
      ]
     },
     "execution_count": 64,
     "metadata": {},
     "output_type": "execute_result"
    }
   ],
   "source": [
    "#Exercici 3\n",
    "#Crea una funció que donada una taula de dues dimensions (NxM), et calculi els totals per fila i els totals per columna.\n",
    "\n",
    "dosDim= np.array([[8, 2, 5], [4, 0, 6]])\n",
    "\n",
    "def total(dosDim):\n",
    "    filasTotals = np.sum(dosDim, axis=1)\n",
    "    columnesTotals = np.sum(dosDim, axis=0)\n",
    "\n",
    "    return f\"Total per fila: {filasTotals}, Total per columna:{columnesTotals} \"\n",
    "\n",
    "total(dosDim)"
   ]
  },
  {
   "cell_type": "code",
   "execution_count": 105,
   "id": "a4318ff6",
   "metadata": {},
   "outputs": [
    {
     "data": {
      "text/plain": [
       "1.0"
      ]
     },
     "execution_count": 105,
     "metadata": {},
     "output_type": "execute_result"
    }
   ],
   "source": [
    "#Exercici 4\n",
    "#Implementa manualment una funció que calculi el coeficient de correlació. Informa-te'n sobre els seus usos i interpretació.\n",
    "\n",
    "x=[1, 2, 3, 4, 5, 6]\n",
    "y=[7, 8, 9, 10, 11, 12]\n",
    "\n",
    "def cofi(x, y):\n",
    "    n = len(x)\n",
    "    x_mitjana = sum(x) / n\n",
    "    y_mitjana = sum(y) / n\n",
    "    x_desviacio = [i - x_mitjana for i in x]\n",
    "    y_desviacio = [i - y_mitjana for i in y]\n",
    "    x_y_desviacio = [x_desviacio[i] * y_desviacio[i] for i in range(n)]\n",
    "    x_quadrat = [i**2 for i in x_desviacio]\n",
    "    y_quadrat = [i**2 for i in y_desviacio]\n",
    "    valor1 = sum(x_y_desviacio)\n",
    "    valor2 = (sum(x_quadrat) * sum(y_quadrat))**0.5\n",
    "    return valor1 / valor2\n",
    "\n",
    "\n",
    "cofi(x, y)\n",
    "\n"
   ]
  }
 ],
 "metadata": {
  "kernelspec": {
   "display_name": "Python 3 (ipykernel)",
   "language": "python",
   "name": "python3"
  },
  "language_info": {
   "codemirror_mode": {
    "name": "ipython",
    "version": 3
   },
   "file_extension": ".py",
   "mimetype": "text/x-python",
   "name": "python",
   "nbconvert_exporter": "python",
   "pygments_lexer": "ipython3",
   "version": "3.9.13"
  }
 },
 "nbformat": 4,
 "nbformat_minor": 5
}
